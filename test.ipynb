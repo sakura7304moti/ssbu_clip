{
 "cells": [
  {
   "cell_type": "markdown",
   "metadata": {
    "jp-MarkdownHeadingCollapsed": true,
    "tags": []
   },
   "source": [
    "### test"
   ]
  },
  {
   "cell_type": "code",
   "execution_count": 1,
   "metadata": {},
   "outputs": [
    {
     "name": "stdout",
     "output_type": "stream",
     "text": [
      "files -> 2368\n"
     ]
    }
   ],
   "source": [
    "#指定したフォルダーにスマブラの切り抜き/2022,2023...をコピーする\n",
    "\n",
    "import datetime\n",
    "import glob\n",
    "import os\n",
    "import shutil\n",
    "from tqdm.notebook import tqdm\n",
    "import sqlite3\n",
    "import pandas as pd\n",
    "\n",
    "dir_name = 'D:\\python\\git\\sharemotiApi\\data\\ssbu'\n",
    "\n",
    "years = [2022,2023]\n",
    "clip_dir = r'D:\\素材\\スマブラ\\切り抜き'\n",
    "copy_from = []\n",
    "for year in years:\n",
    "    ls = glob.glob(os.path.join(clip_dir,str(year),'*','*','*.mp4'))\n",
    "    for path in ls:\n",
    "        copy_from.append(path)\n",
    "print(f'files -> {len(copy_from)}')"
   ]
  },
  {
   "cell_type": "code",
   "execution_count": 2,
   "metadata": {
    "tags": []
   },
   "outputs": [],
   "source": [
    "def get_dir(path):\n",
    "    directory = os.path.dirname(path)\n",
    "    yyyymmdd = os.path.basename(directory)\n",
    "    \n",
    "    up_directory = os.path.dirname(directory)\n",
    "    year = os.path.basename(up_directory)\n",
    "    return year,yyyymmdd,os.path.basename(path)"
   ]
  },
  {
   "cell_type": "code",
   "execution_count": 3,
   "metadata": {
    "tags": []
   },
   "outputs": [
    {
     "name": "stdout",
     "output_type": "stream",
     "text": [
      "コピー先 -> D:\\python\\git\\sharemotiApi\\data\\ssbu\n"
     ]
    },
    {
     "data": {
      "application/vnd.jupyter.widget-view+json": {
       "model_id": "e1a2bb20afd2401f8e4c4ab279d7d565",
       "version_major": 2,
       "version_minor": 0
      },
      "text/plain": [
       "  0%|          | 0/2368 [00:00<?, ?it/s]"
      ]
     },
     "metadata": {},
     "output_type": "display_data"
    }
   ],
   "source": [
    "print(f'コピー先 -> {dir_name}')\n",
    "for path in tqdm(copy_from):\n",
    "    #保存先を取得\n",
    "    year,yyyymmdd,file_name = get_dir(path)\n",
    "    copy_to_dir = os.path.join(dir_name,year,yyyymmdd)\n",
    "    \n",
    "    #フォルダ作成\n",
    "    if not os.path.exists(copy_to_dir):\n",
    "        os.makedirs(copy_to_dir)\n",
    "        \n",
    "    #ファイルコピー\n",
    "    copy_to = os.path.join(copy_to_dir,file_name)\n",
    "    if not os.path.exists(copy_to):\n",
    "        shutil.copyfile(path,copy_to)"
   ]
  },
  {
   "cell_type": "code",
   "execution_count": null,
   "metadata": {
    "tags": []
   },
   "outputs": [
    {
     "name": "stdout",
     "output_type": "stream",
     "text": [
      "コピー先 -> Z:\\Python\\sharemotiApi\\data\\ssbu\n"
     ]
    },
    {
     "data": {
      "application/vnd.jupyter.widget-view+json": {
       "model_id": "acebe779979e4d1eab9ca822850657f5",
       "version_major": 2,
       "version_minor": 0
      },
      "text/plain": [
       "  0%|          | 0/2368 [00:00<?, ?it/s]"
      ]
     },
     "metadata": {},
     "output_type": "display_data"
    }
   ],
   "source": [
    "dir_name = r'Z:\\Python\\sharemotiApi\\data\\ssbu'\n",
    "\n",
    "print(f'コピー先 -> {dir_name}')\n",
    "for path in tqdm(copy_from):\n",
    "    #保存先を取得\n",
    "    year,yyyymmdd,file_name = get_dir(path)\n",
    "    copy_to_dir = os.path.join(dir_name,year,yyyymmdd)\n",
    "    \n",
    "    #フォルダ作成\n",
    "    if not os.path.exists(copy_to_dir):\n",
    "        os.makedirs(copy_to_dir)\n",
    "        \n",
    "    #ファイルコピー\n",
    "    copy_to = os.path.join(copy_to_dir,file_name)\n",
    "    if not os.path.exists(copy_to):\n",
    "        shutil.copyfile(path,copy_to)"
   ]
  },
  {
   "cell_type": "markdown",
   "metadata": {},
   "source": [
    "## nameList insert"
   ]
  },
  {
   "cell_type": "code",
   "execution_count": 1,
   "metadata": {
    "scrolled": true,
    "tags": []
   },
   "outputs": [],
   "source": [
    "dbname = r\"Z:\\git\\sharemotiApi2\\main\\share.db\"\n",
    "\n",
    "import sqlite3\n",
    "\n",
    "# データベースに接続する\n",
    "conn = sqlite3.connect(dbname)\n",
    "cursor = conn.cursor()"
   ]
  },
  {
   "cell_type": "code",
   "execution_count": 4,
   "metadata": {
    "tags": []
   },
   "outputs": [],
   "source": [
    "# SELECTクエリを実行\n",
    "cursor.execute(\"INSERT INTO nameList(key,val) select name,ssbu_name from nameList2 as n2 where not exists(select key from nameList as n1 where n1.key = n2.name)\")\n",
    "conn.commit()\n",
    "results = cursor.fetchall()\n",
    "for r in results:\n",
    "    print(r)"
   ]
  },
  {
   "cell_type": "code",
   "execution_count": 5,
   "metadata": {
    "tags": []
   },
   "outputs": [],
   "source": [
    "# SELECTクエリを実行\n",
    "cursor.execute(\"select name,ssbu_name from nameList2 as n2 where not exists(select key from nameList as n1 where n1.key = n2.name)\")\n",
    "conn.commit()\n",
    "results = cursor.fetchall()\n",
    "for r in results:\n",
    "    print(r)"
   ]
  },
  {
   "cell_type": "code",
   "execution_count": 7,
   "metadata": {
    "tags": []
   },
   "outputs": [],
   "source": [
    "conn.close()"
   ]
  },
  {
   "cell_type": "code",
   "execution_count": null,
   "metadata": {},
   "outputs": [],
   "source": []
  }
 ],
 "metadata": {
  "kernelspec": {
   "display_name": "Python 3 (ipykernel)",
   "language": "python",
   "name": "python3"
  },
  "language_info": {
   "codemirror_mode": {
    "name": "ipython",
    "version": 3
   },
   "file_extension": ".py",
   "mimetype": "text/x-python",
   "name": "python",
   "nbconvert_exporter": "python",
   "pygments_lexer": "ipython3",
   "version": "3.11.4"
  }
 },
 "nbformat": 4,
 "nbformat_minor": 4
}
